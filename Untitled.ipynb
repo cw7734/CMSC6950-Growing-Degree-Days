{
 "cells": [
  {
   "cell_type": "code",
   "execution_count": 1,
   "metadata": {
    "collapsed": true
   },
   "outputs": [],
   "source": [
    "import numpy as np\n",
    "import pandas as pd\n",
    "from matplotlib import pylab as plt\n",
    "%matplotlib inline"
   ]
  },
  {
   "cell_type": "code",
   "execution_count": 2,
   "metadata": {},
   "outputs": [
    {
     "ename": "SyntaxError",
     "evalue": "invalid character in identifier (<ipython-input-2-14d5ac69b588>, line 1)",
     "output_type": "error",
     "traceback": [
      "\u001b[1;36m  File \u001b[1;32m\"<ipython-input-2-14d5ac69b588>\"\u001b[1;36m, line \u001b[1;32m1\u001b[0m\n\u001b[1;33m    ！ls\u001b[0m\n\u001b[1;37m      ^\u001b[0m\n\u001b[1;31mSyntaxError\u001b[0m\u001b[1;31m:\u001b[0m invalid character in identifier\n"
     ]
    }
   ],
   "source": [
    "！ls"
   ]
  },
  {
   "cell_type": "code",
   "execution_count": 6,
   "metadata": {},
   "outputs": [
    {
     "name": "stdout",
     "output_type": "stream",
     "text": [
      "autodownload.py\n",
      "chen-wei\n",
      "City Data.txt\n",
      "Git Config\n",
      "HALIFAX_2012\n",
      "HALIFAX_2013\n",
      "HALIFAX_2013.csv\n",
      "HALIFAX_2014\n",
      "HALIFAX_2015\n",
      "HALIFAX_2016\n",
      "HALIFAX_2017\n",
      "README.md\n",
      "ST JOHNS_2012\n",
      "ST JOHNS_2013\n",
      "ST JOHNS_2014\n",
      "ST JOHNS_2015\n",
      "ST JOHNS_2016\n",
      "ST JOHNS_2017\n",
      "TORONTO_2012\n",
      "TORONTO_2013\n",
      "TORONTO_2014\n",
      "TORONTO_2015\n",
      "TORONTO_2016\n",
      "TORONTO_2017\n",
      "Untitled.ipynb\n",
      "VANCOUVER_2012\n",
      "VANCOUVER_2013\n",
      "VANCOUVER_2014\n",
      "VANCOUVER_2015\n",
      "VANCOUVER_2016\n",
      "VANCOUVER_2017\n"
     ]
    }
   ],
   "source": [
    "!ls"
   ]
  },
  {
   "cell_type": "code",
   "execution_count": 5,
   "metadata": {},
   "outputs": [
    {
     "ename": "AttributeError",
     "evalue": "module 'pandas' has no attribute 'read'",
     "output_type": "error",
     "traceback": [
      "\u001b[1;31m---------------------------------------------------------------------------\u001b[0m",
      "\u001b[1;31mAttributeError\u001b[0m                            Traceback (most recent call last)",
      "\u001b[1;32m<ipython-input-5-8c2cafb706ed>\u001b[0m in \u001b[0;36m<module>\u001b[1;34m()\u001b[0m\n\u001b[1;32m----> 1\u001b[1;33m \u001b[0mdf\u001b[0m \u001b[1;33m=\u001b[0m \u001b[0mpd\u001b[0m\u001b[1;33m.\u001b[0m\u001b[0mread\u001b[0m\u001b[1;33m(\u001b[0m\u001b[1;34m'HALIFAX_2012'\u001b[0m\u001b[1;33m)\u001b[0m\u001b[1;33m\u001b[0m\u001b[0m\n\u001b[0m",
      "\u001b[1;31mAttributeError\u001b[0m: module 'pandas' has no attribute 'read'"
     ]
    }
   ],
   "source": [
    "df = pd.read_csv('inflammation_data.csv')"
   ]
  },
  {
   "cell_type": "code",
   "execution_count": null,
   "metadata": {
    "collapsed": true
   },
   "outputs": [],
   "source": []
  }
 ],
 "metadata": {
  "kernelspec": {
   "display_name": "Python 3",
   "language": "python",
   "name": "python3"
  },
  "language_info": {
   "codemirror_mode": {
    "name": "ipython",
    "version": 3
   },
   "file_extension": ".py",
   "mimetype": "text/x-python",
   "name": "python",
   "nbconvert_exporter": "python",
   "pygments_lexer": "ipython3",
   "version": "3.6.1"
  }
 },
 "nbformat": 4,
 "nbformat_minor": 2
}
